{
 "cells": [
  {
   "cell_type": "code",
   "execution_count": 1,
   "metadata": {
    "id": "DtWOoI4Ik1Fk"
   },
   "outputs": [],
   "source": [
    "import numpy as np\n",
    "import pandas as pd\n",
    "import matplotlib.pyplot as plt"
   ]
  },
  {
   "cell_type": "code",
   "execution_count": 2,
   "metadata": {
    "id": "2lMi4ibtk90t"
   },
   "outputs": [],
   "source": [
    "senator_tweets = pd.read_csv(\"https://raw.githubusercontent.com/dshimshoni/TwitterIdeologicalSentiment/main/data_with_scores.csv\")\n",
    "senator_tweets = senator_tweets.drop(\"Unnamed: 0\", axis=1)"
   ]
  },
  {
   "cell_type": "code",
   "execution_count": 3,
   "metadata": {
    "colab": {
     "base_uri": "https://localhost:8080/",
     "height": 380
    },
    "id": "wqFo9UzUlRMB",
    "outputId": "7b5a133a-7e60-49f7-9bf5-8b82e622086f"
   },
   "outputs": [
    {
     "data": {
      "text/html": [
       "<div>\n",
       "<style scoped>\n",
       "    .dataframe tbody tr th:only-of-type {\n",
       "        vertical-align: middle;\n",
       "    }\n",
       "\n",
       "    .dataframe tbody tr th {\n",
       "        vertical-align: top;\n",
       "    }\n",
       "\n",
       "    .dataframe thead th {\n",
       "        text-align: right;\n",
       "    }\n",
       "</style>\n",
       "<table border=\"1\" class=\"dataframe\">\n",
       "  <thead>\n",
       "    <tr style=\"text-align: right;\">\n",
       "      <th></th>\n",
       "      <th>ids</th>\n",
       "      <th>date</th>\n",
       "      <th>senator</th>\n",
       "      <th>after_vote</th>\n",
       "      <th>text</th>\n",
       "      <th>tokens</th>\n",
       "      <th>cleaned_tweets</th>\n",
       "      <th>afinn_scores</th>\n",
       "      <th>vader_scores</th>\n",
       "    </tr>\n",
       "  </thead>\n",
       "  <tbody>\n",
       "    <tr>\n",
       "      <th>0</th>\n",
       "      <td>1365451555076472836</td>\n",
       "      <td>2021-02-26 23:59:54</td>\n",
       "      <td>Joe Manchin</td>\n",
       "      <td>0</td>\n",
       "      <td>@f__of__x @angryprog @suchnerve Didn't Manchin...</td>\n",
       "      <td>[\"Didn't\", 'Manchin', 'and', 'Kyrsten', 'Sinem...</td>\n",
       "      <td>Didn't Manchin and Kyrsten Sinema say they wou...</td>\n",
       "      <td>2.0</td>\n",
       "      <td>-0.3089</td>\n",
       "    </tr>\n",
       "    <tr>\n",
       "      <th>1</th>\n",
       "      <td>1365451550261346305</td>\n",
       "      <td>2021-02-26 23:59:53</td>\n",
       "      <td>Joe Manchin</td>\n",
       "      <td>0</td>\n",
       "      <td>@JamaalBowmanNY Why are all the progressives s...</td>\n",
       "      <td>['Why', 'are', 'all', 'the', 'progressives', '...</td>\n",
       "      <td>Why are all the progressives so comfortable ca...</td>\n",
       "      <td>0.0</td>\n",
       "      <td>-0.0463</td>\n",
       "    </tr>\n",
       "    <tr>\n",
       "      <th>2</th>\n",
       "      <td>1365451486881325056</td>\n",
       "      <td>2021-02-26 23:59:37</td>\n",
       "      <td>Joe Manchin</td>\n",
       "      <td>0</td>\n",
       "      <td>@CAAttorney1 @JuddLegum You seem certain Manch...</td>\n",
       "      <td>['You', 'seem', 'certain', 'Manchin', 'will', ...</td>\n",
       "      <td>You seem certain Manchin will hold up a must-p...</td>\n",
       "      <td>-4.0</td>\n",
       "      <td>-0.4696</td>\n",
       "    </tr>\n",
       "    <tr>\n",
       "      <th>3</th>\n",
       "      <td>1365451462831083523</td>\n",
       "      <td>2021-02-26 23:59:32</td>\n",
       "      <td>Joe Manchin</td>\n",
       "      <td>0</td>\n",
       "      <td>@MiddleFWIW @BlueCheese911 @cenkuygur @BernieS...</td>\n",
       "      <td>['Why', 'would', 'the', 'bill', 'fail', 'in', ...</td>\n",
       "      <td>Why would the bill fail in reconciliation? Do ...</td>\n",
       "      <td>-4.0</td>\n",
       "      <td>-0.8105</td>\n",
       "    </tr>\n",
       "    <tr>\n",
       "      <th>4</th>\n",
       "      <td>1365451442295775233</td>\n",
       "      <td>2021-02-26 23:59:27</td>\n",
       "      <td>Joe Manchin</td>\n",
       "      <td>0</td>\n",
       "      <td>@lorio808 @ACTBrigitte You could ask Steve man...</td>\n",
       "      <td>['You', 'could', 'ask', 'Steve', 'manchineel',...</td>\n",
       "      <td>You could ask Steve manchineel daughter about ...</td>\n",
       "      <td>0.0</td>\n",
       "      <td>0.0000</td>\n",
       "    </tr>\n",
       "  </tbody>\n",
       "</table>\n",
       "</div>"
      ],
      "text/plain": [
       "                   ids                 date  ... afinn_scores  vader_scores\n",
       "0  1365451555076472836  2021-02-26 23:59:54  ...          2.0       -0.3089\n",
       "1  1365451550261346305  2021-02-26 23:59:53  ...          0.0       -0.0463\n",
       "2  1365451486881325056  2021-02-26 23:59:37  ...         -4.0       -0.4696\n",
       "3  1365451462831083523  2021-02-26 23:59:32  ...         -4.0       -0.8105\n",
       "4  1365451442295775233  2021-02-26 23:59:27  ...          0.0        0.0000\n",
       "\n",
       "[5 rows x 9 columns]"
      ]
     },
     "execution_count": 3,
     "metadata": {
      "tags": []
     },
     "output_type": "execute_result"
    }
   ],
   "source": [
    "senator_tweets.head()"
   ]
  },
  {
   "cell_type": "code",
   "execution_count": 4,
   "metadata": {
    "id": "TBaBiXGQnaT0"
   },
   "outputs": [],
   "source": [
    "senator_tweets.cleaned_tweets = senator_tweets.cleaned_tweets.str.lower()"
   ]
  },
  {
   "cell_type": "code",
   "execution_count": 5,
   "metadata": {
    "colab": {
     "base_uri": "https://localhost:8080/",
     "height": 597
    },
    "id": "58KqL9Bfnwg6",
    "outputId": "161b112d-5c71-4c0c-90d1-acbf4a716534"
   },
   "outputs": [
    {
     "data": {
      "text/html": [
       "<div>\n",
       "<style scoped>\n",
       "    .dataframe tbody tr th:only-of-type {\n",
       "        vertical-align: middle;\n",
       "    }\n",
       "\n",
       "    .dataframe tbody tr th {\n",
       "        vertical-align: top;\n",
       "    }\n",
       "\n",
       "    .dataframe thead th {\n",
       "        text-align: right;\n",
       "    }\n",
       "</style>\n",
       "<table border=\"1\" class=\"dataframe\">\n",
       "  <thead>\n",
       "    <tr style=\"text-align: right;\">\n",
       "      <th></th>\n",
       "      <th>ids</th>\n",
       "      <th>date</th>\n",
       "      <th>senator</th>\n",
       "      <th>after_vote</th>\n",
       "      <th>text</th>\n",
       "      <th>tokens</th>\n",
       "      <th>cleaned_tweets</th>\n",
       "      <th>afinn_scores</th>\n",
       "      <th>vader_scores</th>\n",
       "    </tr>\n",
       "  </thead>\n",
       "  <tbody>\n",
       "    <tr>\n",
       "      <th>174</th>\n",
       "      <td>1365808257764372480</td>\n",
       "      <td>2021-02-27 23:37:18</td>\n",
       "      <td>Joe Manchin</td>\n",
       "      <td>0</td>\n",
       "      <td>@IlhanMN https://t.co/W238H2c1SJ</td>\n",
       "      <td>[]</td>\n",
       "      <td>NaN</td>\n",
       "      <td>0.0</td>\n",
       "      <td>0.0</td>\n",
       "    </tr>\n",
       "    <tr>\n",
       "      <th>175</th>\n",
       "      <td>1365808219071873028</td>\n",
       "      <td>2021-02-27 23:37:09</td>\n",
       "      <td>Joe Manchin</td>\n",
       "      <td>0</td>\n",
       "      <td>@IlhanMN https://t.co/W238H2c1SJ</td>\n",
       "      <td>[]</td>\n",
       "      <td>NaN</td>\n",
       "      <td>0.0</td>\n",
       "      <td>0.0</td>\n",
       "    </tr>\n",
       "    <tr>\n",
       "      <th>176</th>\n",
       "      <td>1365808143700221954</td>\n",
       "      <td>2021-02-27 23:36:51</td>\n",
       "      <td>Joe Manchin</td>\n",
       "      <td>0</td>\n",
       "      <td>@RoKhanna @IlhanMN https://t.co/W238H2c1SJ</td>\n",
       "      <td>[]</td>\n",
       "      <td>NaN</td>\n",
       "      <td>0.0</td>\n",
       "      <td>0.0</td>\n",
       "    </tr>\n",
       "    <tr>\n",
       "      <th>177</th>\n",
       "      <td>1365808078663385091</td>\n",
       "      <td>2021-02-27 23:36:36</td>\n",
       "      <td>Joe Manchin</td>\n",
       "      <td>0</td>\n",
       "      <td>@IlhanMN https://t.co/W238H2c1SJ</td>\n",
       "      <td>[]</td>\n",
       "      <td>NaN</td>\n",
       "      <td>0.0</td>\n",
       "      <td>0.0</td>\n",
       "    </tr>\n",
       "    <tr>\n",
       "      <th>178</th>\n",
       "      <td>1365808015933399042</td>\n",
       "      <td>2021-02-27 23:36:21</td>\n",
       "      <td>Joe Manchin</td>\n",
       "      <td>0</td>\n",
       "      <td>@sunrisemvmt @IlhanMN @JoeBiden https://t.co/W...</td>\n",
       "      <td>[]</td>\n",
       "      <td>NaN</td>\n",
       "      <td>0.0</td>\n",
       "      <td>0.0</td>\n",
       "    </tr>\n",
       "    <tr>\n",
       "      <th>...</th>\n",
       "      <td>...</td>\n",
       "      <td>...</td>\n",
       "      <td>...</td>\n",
       "      <td>...</td>\n",
       "      <td>...</td>\n",
       "      <td>...</td>\n",
       "      <td>...</td>\n",
       "      <td>...</td>\n",
       "      <td>...</td>\n",
       "    </tr>\n",
       "    <tr>\n",
       "      <th>8182</th>\n",
       "      <td>1367515778577289220</td>\n",
       "      <td>2021-03-04 16:42:23</td>\n",
       "      <td>Angus King</td>\n",
       "      <td>0</td>\n",
       "      <td>https://t.co/cYVY1H0V68</td>\n",
       "      <td>[]</td>\n",
       "      <td>NaN</td>\n",
       "      <td>0.0</td>\n",
       "      <td>0.0</td>\n",
       "    </tr>\n",
       "    <tr>\n",
       "      <th>8206</th>\n",
       "      <td>1367490327674765326</td>\n",
       "      <td>2021-03-04 15:01:15</td>\n",
       "      <td>Angus King</td>\n",
       "      <td>0</td>\n",
       "      <td>https://t.co/rtoRgiKBaf</td>\n",
       "      <td>[]</td>\n",
       "      <td>NaN</td>\n",
       "      <td>0.0</td>\n",
       "      <td>0.0</td>\n",
       "    </tr>\n",
       "    <tr>\n",
       "      <th>8210</th>\n",
       "      <td>1367477956478709763</td>\n",
       "      <td>2021-03-04 14:12:05</td>\n",
       "      <td>Angus King</td>\n",
       "      <td>0</td>\n",
       "      <td>https://t.co/5V0gkGbtxE</td>\n",
       "      <td>[]</td>\n",
       "      <td>NaN</td>\n",
       "      <td>0.0</td>\n",
       "      <td>0.0</td>\n",
       "    </tr>\n",
       "    <tr>\n",
       "      <th>8575</th>\n",
       "      <td>1369690856379285510</td>\n",
       "      <td>2021-03-10 16:45:22</td>\n",
       "      <td>Angus King</td>\n",
       "      <td>1</td>\n",
       "      <td>https://t.co/SsJLsYPlmn</td>\n",
       "      <td>[]</td>\n",
       "      <td>NaN</td>\n",
       "      <td>0.0</td>\n",
       "      <td>0.0</td>\n",
       "    </tr>\n",
       "    <tr>\n",
       "      <th>8622</th>\n",
       "      <td>1370116245920522240</td>\n",
       "      <td>2021-03-11 20:55:43</td>\n",
       "      <td>Angus King</td>\n",
       "      <td>1</td>\n",
       "      <td>https://t.co/qTqNgx4YRD</td>\n",
       "      <td>[]</td>\n",
       "      <td>NaN</td>\n",
       "      <td>0.0</td>\n",
       "      <td>0.0</td>\n",
       "    </tr>\n",
       "  </tbody>\n",
       "</table>\n",
       "<p>85 rows × 9 columns</p>\n",
       "</div>"
      ],
      "text/plain": [
       "                      ids                 date  ... afinn_scores  vader_scores\n",
       "174   1365808257764372480  2021-02-27 23:37:18  ...          0.0           0.0\n",
       "175   1365808219071873028  2021-02-27 23:37:09  ...          0.0           0.0\n",
       "176   1365808143700221954  2021-02-27 23:36:51  ...          0.0           0.0\n",
       "177   1365808078663385091  2021-02-27 23:36:36  ...          0.0           0.0\n",
       "178   1365808015933399042  2021-02-27 23:36:21  ...          0.0           0.0\n",
       "...                   ...                  ...  ...          ...           ...\n",
       "8182  1367515778577289220  2021-03-04 16:42:23  ...          0.0           0.0\n",
       "8206  1367490327674765326  2021-03-04 15:01:15  ...          0.0           0.0\n",
       "8210  1367477956478709763  2021-03-04 14:12:05  ...          0.0           0.0\n",
       "8575  1369690856379285510  2021-03-10 16:45:22  ...          0.0           0.0\n",
       "8622  1370116245920522240  2021-03-11 20:55:43  ...          0.0           0.0\n",
       "\n",
       "[85 rows x 9 columns]"
      ]
     },
     "execution_count": 5,
     "metadata": {
      "tags": []
     },
     "output_type": "execute_result"
    }
   ],
   "source": [
    "## Since these tweets contain only links and tagging of twitter users, we will\n",
    "## discount them from further analysis here\n",
    "\n",
    "senator_tweets.loc[senator_tweets.cleaned_tweets.isna()]"
   ]
  },
  {
   "cell_type": "code",
   "execution_count": 6,
   "metadata": {
    "colab": {
     "base_uri": "https://localhost:8080/"
    },
    "id": "fQMTrsOnlSyB",
    "outputId": "e7f2023f-f61d-4083-f49f-ffc49f4225e8"
   },
   "outputs": [
    {
     "name": "stdout",
     "output_type": "stream",
     "text": [
      "(3817, 9)\n",
      "(4831, 9)\n"
     ]
    }
   ],
   "source": [
    "senator_tweets_considered = senator_tweets.loc[~senator_tweets.cleaned_tweets.isna()]\n",
    "\n",
    "senator_tweets_before = senator_tweets_considered.loc[senator_tweets.after_vote == 0]\n",
    "senator_tweets_after = senator_tweets_considered.loc[senator_tweets.after_vote == 1]\n",
    "print(senator_tweets_before.shape)\n",
    "print(senator_tweets_after.shape)"
   ]
  },
  {
   "cell_type": "code",
   "execution_count": 7,
   "metadata": {
    "colab": {
     "base_uri": "https://localhost:8080/",
     "height": 380
    },
    "id": "y3pWFma5m7Fx",
    "outputId": "43d18f49-5e22-4ba3-e28b-5d56e2ad2a2e"
   },
   "outputs": [
    {
     "data": {
      "text/html": [
       "<div>\n",
       "<style scoped>\n",
       "    .dataframe tbody tr th:only-of-type {\n",
       "        vertical-align: middle;\n",
       "    }\n",
       "\n",
       "    .dataframe tbody tr th {\n",
       "        vertical-align: top;\n",
       "    }\n",
       "\n",
       "    .dataframe thead th {\n",
       "        text-align: right;\n",
       "    }\n",
       "</style>\n",
       "<table border=\"1\" class=\"dataframe\">\n",
       "  <thead>\n",
       "    <tr style=\"text-align: right;\">\n",
       "      <th></th>\n",
       "      <th>ids</th>\n",
       "      <th>date</th>\n",
       "      <th>senator</th>\n",
       "      <th>after_vote</th>\n",
       "      <th>text</th>\n",
       "      <th>tokens</th>\n",
       "      <th>cleaned_tweets</th>\n",
       "      <th>afinn_scores</th>\n",
       "      <th>vader_scores</th>\n",
       "    </tr>\n",
       "  </thead>\n",
       "  <tbody>\n",
       "    <tr>\n",
       "      <th>0</th>\n",
       "      <td>1365451555076472836</td>\n",
       "      <td>2021-02-26 23:59:54</td>\n",
       "      <td>Joe Manchin</td>\n",
       "      <td>0</td>\n",
       "      <td>@f__of__x @angryprog @suchnerve Didn't Manchin...</td>\n",
       "      <td>[\"Didn't\", 'Manchin', 'and', 'Kyrsten', 'Sinem...</td>\n",
       "      <td>didn't manchin and kyrsten sinema say they wou...</td>\n",
       "      <td>2.0</td>\n",
       "      <td>-0.3089</td>\n",
       "    </tr>\n",
       "    <tr>\n",
       "      <th>1</th>\n",
       "      <td>1365451550261346305</td>\n",
       "      <td>2021-02-26 23:59:53</td>\n",
       "      <td>Joe Manchin</td>\n",
       "      <td>0</td>\n",
       "      <td>@JamaalBowmanNY Why are all the progressives s...</td>\n",
       "      <td>['Why', 'are', 'all', 'the', 'progressives', '...</td>\n",
       "      <td>why are all the progressives so comfortable ca...</td>\n",
       "      <td>0.0</td>\n",
       "      <td>-0.0463</td>\n",
       "    </tr>\n",
       "    <tr>\n",
       "      <th>2</th>\n",
       "      <td>1365451486881325056</td>\n",
       "      <td>2021-02-26 23:59:37</td>\n",
       "      <td>Joe Manchin</td>\n",
       "      <td>0</td>\n",
       "      <td>@CAAttorney1 @JuddLegum You seem certain Manch...</td>\n",
       "      <td>['You', 'seem', 'certain', 'Manchin', 'will', ...</td>\n",
       "      <td>you seem certain manchin will hold up a must-p...</td>\n",
       "      <td>-4.0</td>\n",
       "      <td>-0.4696</td>\n",
       "    </tr>\n",
       "    <tr>\n",
       "      <th>3</th>\n",
       "      <td>1365451462831083523</td>\n",
       "      <td>2021-02-26 23:59:32</td>\n",
       "      <td>Joe Manchin</td>\n",
       "      <td>0</td>\n",
       "      <td>@MiddleFWIW @BlueCheese911 @cenkuygur @BernieS...</td>\n",
       "      <td>['Why', 'would', 'the', 'bill', 'fail', 'in', ...</td>\n",
       "      <td>why would the bill fail in reconciliation? do ...</td>\n",
       "      <td>-4.0</td>\n",
       "      <td>-0.8105</td>\n",
       "    </tr>\n",
       "    <tr>\n",
       "      <th>4</th>\n",
       "      <td>1365451442295775233</td>\n",
       "      <td>2021-02-26 23:59:27</td>\n",
       "      <td>Joe Manchin</td>\n",
       "      <td>0</td>\n",
       "      <td>@lorio808 @ACTBrigitte You could ask Steve man...</td>\n",
       "      <td>['You', 'could', 'ask', 'Steve', 'manchineel',...</td>\n",
       "      <td>you could ask steve manchineel daughter about ...</td>\n",
       "      <td>0.0</td>\n",
       "      <td>0.0000</td>\n",
       "    </tr>\n",
       "  </tbody>\n",
       "</table>\n",
       "</div>"
      ],
      "text/plain": [
       "                   ids                 date  ... afinn_scores  vader_scores\n",
       "0  1365451555076472836  2021-02-26 23:59:54  ...          2.0       -0.3089\n",
       "1  1365451550261346305  2021-02-26 23:59:53  ...          0.0       -0.0463\n",
       "2  1365451486881325056  2021-02-26 23:59:37  ...         -4.0       -0.4696\n",
       "3  1365451462831083523  2021-02-26 23:59:32  ...         -4.0       -0.8105\n",
       "4  1365451442295775233  2021-02-26 23:59:27  ...          0.0        0.0000\n",
       "\n",
       "[5 rows x 9 columns]"
      ]
     },
     "execution_count": 7,
     "metadata": {
      "tags": []
     },
     "output_type": "execute_result"
    }
   ],
   "source": [
    "senator_tweets_before.head()"
   ]
  },
  {
   "cell_type": "code",
   "execution_count": 8,
   "metadata": {
    "colab": {
     "base_uri": "https://localhost:8080/"
    },
    "id": "ldPAFDUjniIQ",
    "outputId": "99ca64e7-c712-47dc-895d-4d9bbe56498d"
   },
   "outputs": [
    {
     "data": {
      "text/plain": [
       "manchin            0.043252\n",
       "sinema             0.035020\n",
       "tester             0.020148\n",
       "jon                0.019148\n",
       "coons              0.018471\n",
       "carper             0.018418\n",
       "shaheen            0.017729\n",
       "joe                0.017201\n",
       "chris              0.017048\n",
       "hassan             0.014476\n",
       "king               0.014052\n",
       "angus              0.013090\n",
       "like               0.013068\n",
       "vote               0.012766\n",
       "maggie             0.012698\n",
       "amp                0.012645\n",
       "filibuster         0.012131\n",
       "senate             0.011369\n",
       "senators           0.011207\n",
       "just               0.010566\n",
       "don                0.010247\n",
       "democrats          0.010044\n",
       "senator            0.009437\n",
       "need               0.009347\n",
       "biden              0.009158\n",
       "wage               0.009011\n",
       "people             0.008596\n",
       "15                 0.007970\n",
       "think              0.007865\n",
       "votes              0.007558\n",
       "sen                0.007472\n",
       "dems               0.007393\n",
       "won                0.007305\n",
       "minimum            0.006848\n",
       "support            0.006761\n",
       "pass               0.006393\n",
       "tom                0.006352\n",
       "republican         0.006290\n",
       "know               0.006208\n",
       "doesn              0.006189\n",
       "50                 0.006103\n",
       "right              0.006034\n",
       "parliamentarian    0.005985\n",
       "nh                 0.005958\n",
       "party              0.005896\n",
       "going              0.005893\n",
       "time               0.005872\n",
       "poll               0.005722\n",
       "good               0.005678\n",
       "new                0.005662\n",
       "dtype: float64"
      ]
     },
     "execution_count": 8,
     "metadata": {
      "tags": []
     },
     "output_type": "execute_result"
    }
   ],
   "source": [
    "from sklearn.feature_extraction.text import TfidfVectorizer\n",
    "\n",
    "before_tfidf = TfidfVectorizer(stop_words='english')\n",
    "before_corpus_tfidf = before_tfidf.fit_transform(senator_tweets_before.cleaned_tweets.values)\n",
    "before_tfidf_feats = before_tfidf.get_feature_names()\n",
    "\n",
    "before_tfidf_array = before_corpus_tfidf.toarray()\n",
    "\n",
    "before_tfidf_df = pd.DataFrame(before_tfidf_array, columns = before_tfidf_feats, index = senator_tweets_before.ids.values)\n",
    "\n",
    "word_avg_before_tfidf = before_tfidf_df.mean(axis=0).sort_values(ascending=False)\n",
    "word_avg_before_tfidf.head(50)"
   ]
  },
  {
   "cell_type": "code",
   "execution_count": 9,
   "metadata": {
    "colab": {
     "base_uri": "https://localhost:8080/"
    },
    "id": "87-mik9GorY0",
    "outputId": "f0e3f80a-d0d0-4062-d52f-1e3d2f67d098"
   },
   "outputs": [
    {
     "data": {
      "text/plain": [
       "mil           0.048231\n",
       "manchin       0.040896\n",
       "sinema        0.037233\n",
       "coons         0.031093\n",
       "carper        0.029981\n",
       "king          0.029435\n",
       "joe           0.029177\n",
       "shaheen       0.028297\n",
       "chris         0.027996\n",
       "angus         0.027845\n",
       "tester        0.027826\n",
       "hassan        0.025963\n",
       "jon           0.025947\n",
       "nh            0.023851\n",
       "maggie        0.023677\n",
       "tom           0.022776\n",
       "wage          0.022651\n",
       "jeanne        0.021975\n",
       "voted         0.020847\n",
       "kyrsten       0.020020\n",
       "minimum       0.019009\n",
       "sen           0.018762\n",
       "dump          0.018338\n",
       "democrats     0.017388\n",
       "15            0.015841\n",
       "delaware      0.015236\n",
       "vote          0.011936\n",
       "amp           0.011884\n",
       "wv            0.011691\n",
       "az            0.011551\n",
       "maine         0.011445\n",
       "mt            0.011210\n",
       "del           0.011157\n",
       "million       0.011087\n",
       "senators      0.010951\n",
       "like          0.010733\n",
       "new           0.010719\n",
       "senator       0.010511\n",
       "biden         0.010198\n",
       "people        0.010068\n",
       "senate        0.009926\n",
       "just          0.009592\n",
       "filibuster    0.009527\n",
       "dems          0.009511\n",
       "don           0.009398\n",
       "raising       0.008821\n",
       "hampshire     0.008656\n",
       "10            0.008514\n",
       "13            0.007945\n",
       "net           0.007867\n",
       "dtype: float64"
      ]
     },
     "execution_count": 9,
     "metadata": {
      "tags": []
     },
     "output_type": "execute_result"
    }
   ],
   "source": [
    "after_tfidf = TfidfVectorizer(stop_words='english')\n",
    "after_corpus_tfidf = after_tfidf.fit_transform(senator_tweets_after.cleaned_tweets.values)\n",
    "after_tfidf_feats = after_tfidf.get_feature_names()\n",
    "\n",
    "after_tfidf_array = after_corpus_tfidf.toarray()\n",
    "\n",
    "after_tfidf_df = pd.DataFrame(after_tfidf_array, columns = after_tfidf_feats, index = senator_tweets_after.ids.values)\n",
    "\n",
    "word_avg_after_tfidf = after_tfidf_df.mean(axis=0).sort_values(ascending=False)\n",
    "word_avg_after_tfidf.head(50)"
   ]
  },
  {
   "cell_type": "markdown",
   "metadata": {
    "id": "jjwHPT_g50t4"
   },
   "source": [
    "Vader Sentiment Scores Visualization"
   ]
  },
  {
   "cell_type": "code",
   "execution_count": 10,
   "metadata": {
    "colab": {
     "base_uri": "https://localhost:8080/",
     "height": 384
    },
    "id": "yTGafVUdqrOJ",
    "outputId": "2411e5b6-6a3e-4c0d-828c-ba443eeb0253"
   },
   "outputs": [
    {
     "data": {
      "text/plain": [
       "<matplotlib.axes._subplots.AxesSubplot at 0x7f5d76d3df50>"
      ]
     },
     "execution_count": 10,
     "metadata": {
      "tags": []
     },
     "output_type": "execute_result"
    },
    {
     "data": {
      "image/png": "[encoded data removed]",
      "text/plain": [
       "<Figure size 432x288 with 1 Axes>"
      ]
     },
     "metadata": {
      "needs_background": "light",
      "tags": []
     },
     "output_type": "display_data"
    }
   ],
   "source": [
    "#Changed the dataframe a bit to make the graph labels nicer\n",
    "senator_tweets.rename(columns={'after_vote': 'Time'},inplace=True)\n",
    "senator_tweets['Time'] = np.where(senator_tweets['Time'] == 0, 'Week Before March 5 Vote', 'Week Following March 5 Vote')\n",
    "\n",
    "senator_tweets.groupby(['senator','Time']).mean()['vader_scores'].unstack().plot(\n",
    "    xlabel = 'Senator', \n",
    "    ylabel = 'Average Vader Senitment Score', \n",
    "    kind = 'bar',\n",
    "    title = 'Twitter Sentiment of Senators Before and After Voting \"No\" on Minimum Wage Increase')\n",
    "\n",
    "\n"
   ]
  },
  {
   "cell_type": "markdown",
   "metadata": {
    "id": "2TLGm_hm5waI"
   },
   "source": [
    "Afinn Sentiment Scores Visualization"
   ]
  },
  {
   "cell_type": "code",
   "execution_count": 11,
   "metadata": {
    "colab": {
     "base_uri": "https://localhost:8080/",
     "height": 384
    },
    "id": "0UAyBDCZ5nm5",
    "outputId": "4c9bfa80-bcd8-40b3-de69-808fe8ae0ba3"
   },
   "outputs": [
    {
     "data": {
      "text/plain": [
       "<matplotlib.axes._subplots.AxesSubplot at 0x7f5d62dbb210>"
      ]
     },
     "execution_count": 11,
     "metadata": {
      "tags": []
     },
     "output_type": "execute_result"
    },
    {
     "data": {
      "image/png": "[encoded data removed]",
      "text/plain": [
       "<Figure size 432x288 with 1 Axes>"
      ]
     },
     "metadata": {
      "needs_background": "light",
      "tags": []
     },
     "output_type": "display_data"
    }
   ],
   "source": [
    "senator_tweets.groupby(['senator','Time']).mean()['afinn_scores'].unstack().plot(\n",
    "    xlabel = 'Senator', \n",
    "    ylabel = 'Average Afinn Senitment Score', \n",
    "    kind = 'bar',\n",
    "    title = 'Twitter Sentiment of Senators Before and After Voting \"No\" on Minimum Wage Increase')\n",
    "\n"
   ]
  },
  {
   "cell_type": "code",
   "execution_count": 12,
   "metadata": {
    "colab": {
     "base_uri": "https://localhost:8080/",
     "height": 331
    },
    "id": "LAoLVfh_vvVs",
    "outputId": "0aaddb1e-2abd-4d5c-b26c-744890d41fda"
   },
   "outputs": [
    {
     "data": {
      "text/html": [
       "<div>\n",
       "<style scoped>\n",
       "    .dataframe tbody tr th:only-of-type {\n",
       "        vertical-align: middle;\n",
       "    }\n",
       "\n",
       "    .dataframe tbody tr th {\n",
       "        vertical-align: top;\n",
       "    }\n",
       "\n",
       "    .dataframe thead th {\n",
       "        text-align: right;\n",
       "    }\n",
       "</style>\n",
       "<table border=\"1\" class=\"dataframe\">\n",
       "  <thead>\n",
       "    <tr style=\"text-align: right;\">\n",
       "      <th>Time</th>\n",
       "      <th>Week Before March 5 Vote</th>\n",
       "      <th>Week Following March 5 Vote</th>\n",
       "      <th>Difference</th>\n",
       "    </tr>\n",
       "    <tr>\n",
       "      <th>senator</th>\n",
       "      <th></th>\n",
       "      <th></th>\n",
       "      <th></th>\n",
       "    </tr>\n",
       "  </thead>\n",
       "  <tbody>\n",
       "    <tr>\n",
       "      <th>Angus King</th>\n",
       "      <td>0.098468</td>\n",
       "      <td>0.056750</td>\n",
       "      <td>-0.041718</td>\n",
       "    </tr>\n",
       "    <tr>\n",
       "      <th>Chris Coons</th>\n",
       "      <td>-0.014086</td>\n",
       "      <td>0.030012</td>\n",
       "      <td>0.044098</td>\n",
       "    </tr>\n",
       "    <tr>\n",
       "      <th>Jeanne Shaheen</th>\n",
       "      <td>0.104574</td>\n",
       "      <td>0.079974</td>\n",
       "      <td>-0.024600</td>\n",
       "    </tr>\n",
       "    <tr>\n",
       "      <th>Joe Manchin</th>\n",
       "      <td>-0.022806</td>\n",
       "      <td>0.030281</td>\n",
       "      <td>0.053087</td>\n",
       "    </tr>\n",
       "    <tr>\n",
       "      <th>Jon Tester</th>\n",
       "      <td>0.118110</td>\n",
       "      <td>0.051560</td>\n",
       "      <td>-0.066551</td>\n",
       "    </tr>\n",
       "    <tr>\n",
       "      <th>Kyrsten Sinema</th>\n",
       "      <td>0.015137</td>\n",
       "      <td>-0.052960</td>\n",
       "      <td>-0.068098</td>\n",
       "    </tr>\n",
       "    <tr>\n",
       "      <th>Maggie Hassan</th>\n",
       "      <td>0.156267</td>\n",
       "      <td>0.054421</td>\n",
       "      <td>-0.101846</td>\n",
       "    </tr>\n",
       "    <tr>\n",
       "      <th>Tom Carper</th>\n",
       "      <td>-0.056696</td>\n",
       "      <td>0.010011</td>\n",
       "      <td>0.066707</td>\n",
       "    </tr>\n",
       "  </tbody>\n",
       "</table>\n",
       "</div>"
      ],
      "text/plain": [
       "Time            Week Before March 5 Vote  ...  Difference\n",
       "senator                                   ...            \n",
       "Angus King                      0.098468  ...   -0.041718\n",
       "Chris Coons                    -0.014086  ...    0.044098\n",
       "Jeanne Shaheen                  0.104574  ...   -0.024600\n",
       "Joe Manchin                    -0.022806  ...    0.053087\n",
       "Jon Tester                      0.118110  ...   -0.066551\n",
       "Kyrsten Sinema                  0.015137  ...   -0.068098\n",
       "Maggie Hassan                   0.156267  ...   -0.101846\n",
       "Tom Carper                     -0.056696  ...    0.066707\n",
       "\n",
       "[8 rows x 3 columns]"
      ]
     },
     "execution_count": 12,
     "metadata": {
      "tags": []
     },
     "output_type": "execute_result"
    }
   ],
   "source": [
    "vader_compare = senator_tweets.groupby(['senator','Time']).mean()['vader_scores'].unstack()\n",
    "vader_compare['Difference'] = vader_compare['Week Following March 5 Vote'] - vader_compare['Week Before March 5 Vote']\n",
    "vader_compare"
   ]
  },
  {
   "cell_type": "code",
   "execution_count": 13,
   "metadata": {
    "colab": {
     "base_uri": "https://localhost:8080/",
     "height": 331
    },
    "id": "c0Fn8aFavUh9",
    "outputId": "28ed3d63-74fb-4530-f132-c30411c72d04"
   },
   "outputs": [
    {
     "data": {
      "text/html": [
       "<div>\n",
       "<style scoped>\n",
       "    .dataframe tbody tr th:only-of-type {\n",
       "        vertical-align: middle;\n",
       "    }\n",
       "\n",
       "    .dataframe tbody tr th {\n",
       "        vertical-align: top;\n",
       "    }\n",
       "\n",
       "    .dataframe thead th {\n",
       "        text-align: right;\n",
       "    }\n",
       "</style>\n",
       "<table border=\"1\" class=\"dataframe\">\n",
       "  <thead>\n",
       "    <tr style=\"text-align: right;\">\n",
       "      <th>Time</th>\n",
       "      <th>Week Before March 5 Vote</th>\n",
       "      <th>Week Following March 5 Vote</th>\n",
       "      <th>Difference</th>\n",
       "    </tr>\n",
       "    <tr>\n",
       "      <th>senator</th>\n",
       "      <th></th>\n",
       "      <th></th>\n",
       "      <th></th>\n",
       "    </tr>\n",
       "  </thead>\n",
       "  <tbody>\n",
       "    <tr>\n",
       "      <th>Angus King</th>\n",
       "      <td>0.460843</td>\n",
       "      <td>0.011494</td>\n",
       "      <td>-0.449349</td>\n",
       "    </tr>\n",
       "    <tr>\n",
       "      <th>Chris Coons</th>\n",
       "      <td>-0.418919</td>\n",
       "      <td>-0.171937</td>\n",
       "      <td>0.246982</td>\n",
       "    </tr>\n",
       "    <tr>\n",
       "      <th>Jeanne Shaheen</th>\n",
       "      <td>0.502857</td>\n",
       "      <td>0.382857</td>\n",
       "      <td>-0.120000</td>\n",
       "    </tr>\n",
       "    <tr>\n",
       "      <th>Joe Manchin</th>\n",
       "      <td>-0.321429</td>\n",
       "      <td>0.174286</td>\n",
       "      <td>0.495714</td>\n",
       "    </tr>\n",
       "    <tr>\n",
       "      <th>Jon Tester</th>\n",
       "      <td>0.478261</td>\n",
       "      <td>-0.038636</td>\n",
       "      <td>-0.516897</td>\n",
       "    </tr>\n",
       "    <tr>\n",
       "      <th>Kyrsten Sinema</th>\n",
       "      <td>-0.127143</td>\n",
       "      <td>-0.307143</td>\n",
       "      <td>-0.180000</td>\n",
       "    </tr>\n",
       "    <tr>\n",
       "      <th>Maggie Hassan</th>\n",
       "      <td>0.814590</td>\n",
       "      <td>-0.026746</td>\n",
       "      <td>-0.841336</td>\n",
       "    </tr>\n",
       "    <tr>\n",
       "      <th>Tom Carper</th>\n",
       "      <td>-0.446667</td>\n",
       "      <td>-0.039062</td>\n",
       "      <td>0.407604</td>\n",
       "    </tr>\n",
       "  </tbody>\n",
       "</table>\n",
       "</div>"
      ],
      "text/plain": [
       "Time            Week Before March 5 Vote  ...  Difference\n",
       "senator                                   ...            \n",
       "Angus King                      0.460843  ...   -0.449349\n",
       "Chris Coons                    -0.418919  ...    0.246982\n",
       "Jeanne Shaheen                  0.502857  ...   -0.120000\n",
       "Joe Manchin                    -0.321429  ...    0.495714\n",
       "Jon Tester                      0.478261  ...   -0.516897\n",
       "Kyrsten Sinema                 -0.127143  ...   -0.180000\n",
       "Maggie Hassan                   0.814590  ...   -0.841336\n",
       "Tom Carper                     -0.446667  ...    0.407604\n",
       "\n",
       "[8 rows x 3 columns]"
      ]
     },
     "execution_count": 13,
     "metadata": {
      "tags": []
     },
     "output_type": "execute_result"
    }
   ],
   "source": [
    "afinn_compare = senator_tweets.groupby(['senator','Time']).mean()['afinn_scores'].unstack()\n",
    "afinn_compare['Difference'] = afinn_compare['Week Following March 5 Vote'] - afinn_compare['Week Before March 5 Vote']\n",
    "afinn_compare"
   ]
  },
  {
   "cell_type": "markdown",
   "metadata": {
    "id": "nMjFOiLwgWLN"
   },
   "source": [
    "Overall T-Test of Vader Sentiment Distribution"
   ]
  },
  {
   "cell_type": "code",
   "execution_count": 14,
   "metadata": {
    "colab": {
     "base_uri": "https://localhost:8080/"
    },
    "id": "F3ZIpvo7rmxv",
    "outputId": "29559826-c52e-4b32-9b5a-7028a25a3e4e"
   },
   "outputs": [
    {
     "name": "stdout",
     "output_type": "stream",
     "text": [
      "Requirement already up-to-date: scipy in /usr/local/lib/python3.7/dist-packages (1.6.1)\n",
      "Requirement already satisfied, skipping upgrade: numpy>=1.16.5 in /usr/local/lib/python3.7/dist-packages (from scipy) (1.19.5)\n"
     ]
    }
   ],
   "source": [
    "# !pip install --upgrade scipy"
   ]
  },
  {
   "cell_type": "code",
   "execution_count": 15,
   "metadata": {
    "colab": {
     "base_uri": "https://localhost:8080/"
    },
    "id": "UBdgQUqzv45Z",
    "outputId": "e2eacf4a-038c-41b9-82b5-4bd7b5d6cf8d"
   },
   "outputs": [
    {
     "name": "stdout",
     "output_type": "stream",
     "text": [
      "Result of t-test for whether Vader sentiment of tweets decreased overall after the vote:\n"
     ]
    },
    {
     "data": {
      "text/plain": [
       "Ttest_indResult(statistic=1.2098207223617696, pvalue=0.11319140180941428)"
      ]
     },
     "execution_count": 15,
     "metadata": {
      "tags": []
     },
     "output_type": "execute_result"
    }
   ],
   "source": [
    "from scipy import stats\n",
    "\n",
    "before_vader = senator_tweets_before['vader_scores']\n",
    "after_vader = senator_tweets_after['vader_scores']\n",
    "\n",
    "results = stats.ttest_ind(before_vader, after_vader, equal_var=False, alternative='greater')\n",
    "print(\"Result of t-test for whether Vader sentiment of tweets decreased overall after the vote:\")\n",
    "results"
   ]
  },
  {
   "cell_type": "markdown",
   "metadata": {
    "id": "Ml4w1Br0lijn"
   },
   "source": [
    "Overall T-Test of Afinn Sentiment Distribution"
   ]
  },
  {
   "cell_type": "code",
   "execution_count": 16,
   "metadata": {
    "colab": {
     "base_uri": "https://localhost:8080/"
    },
    "id": "VtsJuHuyld8x",
    "outputId": "b91e0ae8-17fa-4aa6-bf15-3e8543780cad"
   },
   "outputs": [
    {
     "name": "stdout",
     "output_type": "stream",
     "text": [
      "Result of t-test for whether Afinn sentiment of tweets decreased overall after the vote:\n"
     ]
    },
    {
     "data": {
      "text/plain": [
       "Ttest_indResult(statistic=1.0105841996624922, pvalue=0.15612225426516688)"
      ]
     },
     "execution_count": 16,
     "metadata": {
      "tags": []
     },
     "output_type": "execute_result"
    }
   ],
   "source": [
    "before_afinn = senator_tweets_before['afinn_scores']\n",
    "after_afinn = senator_tweets_after['afinn_scores']\n",
    "\n",
    "results = stats.ttest_ind(before_afinn, after_afinn, equal_var=False, alternative='greater')\n",
    "print(\"Result of t-test for whether Afinn sentiment of tweets decreased overall after the vote:\")\n",
    "results"
   ]
  },
  {
   "cell_type": "markdown",
   "metadata": {
    "id": "4jrtxCk4tJ6G"
   },
   "source": [
    "T-tests for individual senators"
   ]
  },
  {
   "cell_type": "code",
   "execution_count": 17,
   "metadata": {
    "colab": {
     "base_uri": "https://localhost:8080/"
    },
    "id": "T7n2_bpJtLcg",
    "outputId": "363c1fac-0d30-4b93-b89f-f7500a81533c"
   },
   "outputs": [
    {
     "name": "stdout",
     "output_type": "stream",
     "text": [
      "Result of t-test for whether Vader sentiment score of tweets about Senator Joe Manchin decreased overall after the vote:\n",
      "Ttest_indResult(statistic=-2.0290124557325915, pvalue=0.9786755038913492)\n",
      "Result of t-test for whether Afinn sentiment score of tweets about Senator Joe Manchin decreased overall after the vote:\n",
      "Ttest_indResult(statistic=-2.7241224259965255, pvalue=0.996735131088415)\n",
      "\n",
      "\n",
      "Result of t-test for whether Vader sentiment score of tweets about Senator Kyrsten Sinema decreased overall after the vote:\n",
      "Ttest_indResult(statistic=2.7373087033922254, pvalue=0.0031367880955194575)\n",
      "Result of t-test for whether Afinn sentiment score of tweets about Senator Kyrsten Sinema decreased overall after the vote:\n",
      "Ttest_indResult(statistic=1.04490753300964, pvalue=0.1481237191675583)\n",
      "\n",
      "\n",
      "Result of t-test for whether Vader sentiment score of tweets about Senator Jeanne Shaheen decreased overall after the vote:\n",
      "Ttest_indResult(statistic=1.310392966517702, pvalue=0.09514109327869713)\n",
      "Result of t-test for whether Afinn sentiment score of tweets about Senator Jeanne Shaheen decreased overall after the vote:\n",
      "Ttest_indResult(statistic=0.8923663587297455, pvalue=0.18617799626226622)\n",
      "\n",
      "\n",
      "Result of t-test for whether Vader sentiment score of tweets about Senator Maggie Hassan decreased overall after the vote:\n",
      "Ttest_indResult(statistic=3.161395469234152, pvalue=0.0008216202085285471)\n",
      "Result of t-test for whether Afinn sentiment score of tweets about Senator Maggie Hassan decreased overall after the vote:\n",
      "Ttest_indResult(statistic=3.8889788061899346, pvalue=5.512111171767055e-05)\n",
      "\n",
      "\n",
      "Result of t-test for whether Vader sentiment score of tweets about Senator Tom Carper decreased overall after the vote:\n",
      "Ttest_indResult(statistic=-2.5841723528846896, pvalue=0.9950346556290453)\n",
      "Result of t-test for whether Afinn sentiment score of tweets about Senator Tom Carper decreased overall after the vote:\n",
      "Ttest_indResult(statistic=-2.088100299147324, pvalue=0.9814806561269954)\n",
      "\n",
      "\n",
      "Result of t-test for whether Vader sentiment score of tweets about Senator Jon Tester decreased overall after the vote:\n",
      "Ttest_indResult(statistic=2.171943293013217, pvalue=0.015092020816394542)\n",
      "Result of t-test for whether Afinn sentiment score of tweets about Senator Jon Tester decreased overall after the vote:\n",
      "Ttest_indResult(statistic=2.0449996560045807, pvalue=0.020594583693164668)\n",
      "\n",
      "\n",
      "Result of t-test for whether Vader sentiment score of tweets about Senator Chris Coons decreased overall after the vote:\n",
      "Ttest_indResult(statistic=-1.3276728185315134, pvalue=0.9075975495848178)\n",
      "Result of t-test for whether Afinn sentiment score of tweets about Senator Chris Coons decreased overall after the vote:\n",
      "Ttest_indResult(statistic=-0.9660119989166569, pvalue=0.8328186896885512)\n",
      "\n",
      "\n",
      "Result of t-test for whether Vader sentiment score of tweets about Senator Angus King decreased overall after the vote:\n",
      "Ttest_indResult(statistic=1.5593789164882033, pvalue=0.059665719817634064)\n",
      "Result of t-test for whether Afinn sentiment score of tweets about Senator Angus King decreased overall after the vote:\n",
      "Ttest_indResult(statistic=2.096912812829083, pvalue=0.018149017873792122)\n",
      "\n",
      "\n"
     ]
    }
   ],
   "source": [
    "for senator in senator_tweets.senator.unique():\n",
    "  before_tweets = senator_tweets_before.loc[senator_tweets_before.senator == senator]\n",
    "  after_tweets = senator_tweets_after.loc[senator_tweets_after.senator == senator]\n",
    "  vader_result = stats.ttest_ind(before_tweets['vader_scores'], after_tweets['vader_scores'], \n",
    "                                 equal_var=False, alternative='greater')\n",
    "  print(\"Result of t-test for whether Vader sentiment score of tweets about Senator {} decreased overall after the vote:\".format(senator))\n",
    "  print(vader_result)\n",
    "  afinn_result = stats.ttest_ind(before_tweets['afinn_scores'], after_tweets['afinn_scores'], \n",
    "                                 equal_var=False, alternative='greater')\n",
    "  print(\"Result of t-test for whether Afinn sentiment score of tweets about Senator {} decreased overall after the vote:\".format(senator))\n",
    "  print(afinn_result)\n",
    "  print(\"\\n\")"
   ]
  }
 ],
 "metadata": {
  "colab": {
   "collapsed_sections": [],
   "name": "ResultsAnalysisNotebook.ipynb",
   "provenance": []
  },
  "kernelspec": {
   "display_name": "Python 3",
   "language": "python",
   "name": "python3"
  },
  "language_info": {
   "codemirror_mode": {
    "name": "ipython",
    "version": 3
   },
   "file_extension": ".py",
   "mimetype": "text/x-python",
   "name": "python",
   "nbconvert_exporter": "python",
   "pygments_lexer": "ipython3",
   "version": "3.8.5"
  }
 },
 "nbformat": 4,
 "nbformat_minor": 1
}
