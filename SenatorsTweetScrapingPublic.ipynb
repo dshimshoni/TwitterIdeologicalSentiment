{
 "cells": [
  {
   "cell_type": "code",
   "execution_count": 3,
   "id": "agricultural-happening",
   "metadata": {},
   "outputs": [],
   "source": [
    "import tweepy\n",
    "import numpy as np\n",
    "import pandas as pd\n",
    "import json\n",
    "import re"
   ]
  },
  {
   "cell_type": "code",
   "execution_count": 4,
   "id": "behavioral-florence",
   "metadata": {},
   "outputs": [],
   "source": [
    "consumer_key = \"YOUR KEY HERE\"\n",
    "consumer_secret = \"YOUR KEY HERE\"\n",
    "\n",
    "auth = tweepy.OAuthHandler(consumer_key, consumer_secret)"
   ]
  },
  {
   "cell_type": "code",
   "execution_count": 5,
   "id": "collected-utility",
   "metadata": {},
   "outputs": [],
   "source": [
    "access_token = \"YOUR TOKEN HERE\"\n",
    "access_token_secret = \"YOUR TOKEN HERE\"\n",
    "\n",
    "auth.set_access_token(access_token, access_token_secret)"
   ]
  },
  {
   "cell_type": "code",
   "execution_count": 6,
   "id": "explicit-consistency",
   "metadata": {},
   "outputs": [],
   "source": [
    "api = tweepy.API(auth)"
   ]
  },
  {
   "cell_type": "code",
   "execution_count": 11,
   "id": "acute-throw",
   "metadata": {},
   "outputs": [],
   "source": [
    "before_vote_date_list = ['202102260000','202102270000','202102280000','202103010000','202103020000',\n",
    "             '202103030000', '202103040000', '202103050000']\n",
    "after_vote_date_list = ['202103060000', '202103070000', '202103080000', '202103090000', \n",
    "                       '202103100000', '202103110000', '202103120000', '202103130000']\n",
    "## Last name for Senators with unique last names, full names for Senators whose last names \n",
    "## could have other meanings/uses\n",
    "search_terms = ['Manchin', 'Sinema', 'Shaheen', 'Maggie Hassan', 'Carper', 'Jon Tester', \n",
    "                'Chris Coons', 'Angus King']\n",
    "search_terms = [term + ' -\"RT\"' for term in search_terms]\n",
    "senators = [\"Joe Manchin\", \"Kyrsten Sinema\", \"Jeanne Shaheen\", \"Maggie Hassan\", \n",
    "           \"Tom Carper\", \"Jon Tester\", \"Chris Coons\", \"Angus King\"]\n",
    "frame_initiated = False"
   ]
  },
  {
   "cell_type": "code",
   "execution_count": 12,
   "id": "outer-church",
   "metadata": {},
   "outputs": [],
   "source": [
    "## Taken from StackOverflow response dealing with similar issue:\n",
    "## https://stackoverflow.com/a/55562039\n",
    "\n",
    "def get_tweet_text(tweet):\n",
    "    try:\n",
    "        return tweet.extended_tweet['full_text']\n",
    "    except AttributeError as error:\n",
    "        return tweet.text"
   ]
  },
  {
   "cell_type": "code",
   "execution_count": 13,
   "id": "flush-organic",
   "metadata": {},
   "outputs": [
    {
     "ename": "TweepError",
     "evalue": "{'message': 'Exceeded rate limit', 'sent': '2021-03-14T19:30:12+00:00', 'transactionId': '001ceb2800be5e94'}",
     "output_type": "error",
     "traceback": [
      "\u001b[1;31m---------------------------------------------------------------------------\u001b[0m",
      "\u001b[1;31mTweepError\u001b[0m                                Traceback (most recent call last)",
      "\u001b[1;32m<ipython-input-13-c0143a057aa8>\u001b[0m in \u001b[0;36m<module>\u001b[1;34m\u001b[0m\n\u001b[0;32m      2\u001b[0m     \u001b[1;31m## Collecting tweets in the before vote period\u001b[0m\u001b[1;33m\u001b[0m\u001b[1;33m\u001b[0m\u001b[1;33m\u001b[0m\u001b[0m\n\u001b[0;32m      3\u001b[0m     \u001b[1;32mfor\u001b[0m \u001b[0mj\u001b[0m \u001b[1;32min\u001b[0m \u001b[0mrange\u001b[0m\u001b[1;33m(\u001b[0m\u001b[1;33m(\u001b[0m\u001b[0mlen\u001b[0m\u001b[1;33m(\u001b[0m\u001b[0mbefore_vote_date_list\u001b[0m\u001b[1;33m)\u001b[0m \u001b[1;33m-\u001b[0m \u001b[1;36m1\u001b[0m\u001b[1;33m)\u001b[0m\u001b[1;33m)\u001b[0m\u001b[1;33m:\u001b[0m\u001b[1;33m\u001b[0m\u001b[1;33m\u001b[0m\u001b[0m\n\u001b[1;32m----> 4\u001b[1;33m         results = api.search_30_day('Development',\n\u001b[0m\u001b[0;32m      5\u001b[0m                                 \u001b[0msearch_term\u001b[0m\u001b[1;33m,\u001b[0m\u001b[1;33m\u001b[0m\u001b[1;33m\u001b[0m\u001b[0m\n\u001b[0;32m      6\u001b[0m                                 \u001b[0mfromDate\u001b[0m \u001b[1;33m=\u001b[0m \u001b[0mbefore_vote_date_list\u001b[0m\u001b[1;33m[\u001b[0m\u001b[0mj\u001b[0m\u001b[1;33m]\u001b[0m\u001b[1;33m,\u001b[0m\u001b[1;33m\u001b[0m\u001b[1;33m\u001b[0m\u001b[0m\n",
      "\u001b[1;32m~\\anaconda3\\envs\\tf\\lib\\site-packages\\tweepy\\api.py\u001b[0m in \u001b[0;36msearch_30_day\u001b[1;34m(self, environment_name, *args, **kwargs)\u001b[0m\n\u001b[0;32m   1290\u001b[0m                             \u001b[1;34m'next'\u001b[0m\u001b[1;33m\u001b[0m\u001b[1;33m\u001b[0m\u001b[0m\n\u001b[0;32m   1291\u001b[0m         \"\"\"\n\u001b[1;32m-> 1292\u001b[1;33m         return bind_api(\n\u001b[0m\u001b[0;32m   1293\u001b[0m             \u001b[0mapi\u001b[0m\u001b[1;33m=\u001b[0m\u001b[0mself\u001b[0m\u001b[1;33m,\u001b[0m\u001b[1;33m\u001b[0m\u001b[1;33m\u001b[0m\u001b[0m\n\u001b[0;32m   1294\u001b[0m             \u001b[0mpath\u001b[0m\u001b[1;33m=\u001b[0m\u001b[1;34m'/tweets/search/30day/{}.json'\u001b[0m\u001b[1;33m.\u001b[0m\u001b[0mformat\u001b[0m\u001b[1;33m(\u001b[0m\u001b[0menvironment_name\u001b[0m\u001b[1;33m)\u001b[0m\u001b[1;33m,\u001b[0m\u001b[1;33m\u001b[0m\u001b[1;33m\u001b[0m\u001b[0m\n",
      "\u001b[1;32m~\\anaconda3\\envs\\tf\\lib\\site-packages\\tweepy\\binder.py\u001b[0m in \u001b[0;36m_call\u001b[1;34m(*args, **kwargs)\u001b[0m\n\u001b[0;32m    251\u001b[0m                 \u001b[1;32mreturn\u001b[0m \u001b[0mmethod\u001b[0m\u001b[1;33m\u001b[0m\u001b[1;33m\u001b[0m\u001b[0m\n\u001b[0;32m    252\u001b[0m             \u001b[1;32melse\u001b[0m\u001b[1;33m:\u001b[0m\u001b[1;33m\u001b[0m\u001b[1;33m\u001b[0m\u001b[0m\n\u001b[1;32m--> 253\u001b[1;33m                 \u001b[1;32mreturn\u001b[0m \u001b[0mmethod\u001b[0m\u001b[1;33m.\u001b[0m\u001b[0mexecute\u001b[0m\u001b[1;33m(\u001b[0m\u001b[1;33m)\u001b[0m\u001b[1;33m\u001b[0m\u001b[1;33m\u001b[0m\u001b[0m\n\u001b[0m\u001b[0;32m    254\u001b[0m         \u001b[1;32mfinally\u001b[0m\u001b[1;33m:\u001b[0m\u001b[1;33m\u001b[0m\u001b[1;33m\u001b[0m\u001b[0m\n\u001b[0;32m    255\u001b[0m             \u001b[0mmethod\u001b[0m\u001b[1;33m.\u001b[0m\u001b[0msession\u001b[0m\u001b[1;33m.\u001b[0m\u001b[0mclose\u001b[0m\u001b[1;33m(\u001b[0m\u001b[1;33m)\u001b[0m\u001b[1;33m\u001b[0m\u001b[1;33m\u001b[0m\u001b[0m\n",
      "\u001b[1;32m~\\anaconda3\\envs\\tf\\lib\\site-packages\\tweepy\\binder.py\u001b[0m in \u001b[0;36mexecute\u001b[1;34m(self)\u001b[0m\n\u001b[0;32m    232\u001b[0m                     \u001b[1;32mraise\u001b[0m \u001b[0mRateLimitError\u001b[0m\u001b[1;33m(\u001b[0m\u001b[0merror_msg\u001b[0m\u001b[1;33m,\u001b[0m \u001b[0mresp\u001b[0m\u001b[1;33m)\u001b[0m\u001b[1;33m\u001b[0m\u001b[1;33m\u001b[0m\u001b[0m\n\u001b[0;32m    233\u001b[0m                 \u001b[1;32melse\u001b[0m\u001b[1;33m:\u001b[0m\u001b[1;33m\u001b[0m\u001b[1;33m\u001b[0m\u001b[0m\n\u001b[1;32m--> 234\u001b[1;33m                     \u001b[1;32mraise\u001b[0m \u001b[0mTweepError\u001b[0m\u001b[1;33m(\u001b[0m\u001b[0merror_msg\u001b[0m\u001b[1;33m,\u001b[0m \u001b[0mresp\u001b[0m\u001b[1;33m,\u001b[0m \u001b[0mapi_code\u001b[0m\u001b[1;33m=\u001b[0m\u001b[0mapi_error_code\u001b[0m\u001b[1;33m)\u001b[0m\u001b[1;33m\u001b[0m\u001b[1;33m\u001b[0m\u001b[0m\n\u001b[0m\u001b[0;32m    235\u001b[0m \u001b[1;33m\u001b[0m\u001b[0m\n\u001b[0;32m    236\u001b[0m             \u001b[1;31m# Parse the response payload\u001b[0m\u001b[1;33m\u001b[0m\u001b[1;33m\u001b[0m\u001b[1;33m\u001b[0m\u001b[0m\n",
      "\u001b[1;31mTweepError\u001b[0m: {'message': 'Exceeded rate limit', 'sent': '2021-03-14T19:30:12+00:00', 'transactionId': '001ceb2800be5e94'}"
     ]
    }
   ],
   "source": [
    "for i, search_term in enumerate(search_terms):\n",
    "    ## Collecting tweets in the before vote period\n",
    "    for j in range((len(before_vote_date_list) - 1)):\n",
    "        results = api.search_30_day('Development',\n",
    "                                search_term,\n",
    "                                fromDate = before_vote_date_list[j],\n",
    "                                toDate = before_vote_date_list[j+1],\n",
    "                                maxResults = 100)\n",
    "        id_list = []\n",
    "        date_list = []\n",
    "        senator_list = []\n",
    "        ## This binary variable will indicate whether the tweets came before or after the vote\n",
    "        after_vote_list = []\n",
    "        text_list = []\n",
    "\n",
    "        for tweet in results:\n",
    "            id_list.append(tweet.id_str)\n",
    "            date_list.append(tweet.created_at)\n",
    "            senator_list.append(senators[i])\n",
    "            after_vote_list.append(0)\n",
    "            text_list.append(get_tweet_text(tweet))\n",
    "\n",
    "        InfoDict = {'ids': id_list, 'date': date_list, 'senator': senator_list,\n",
    "                    'after_vote': after_vote_list, 'text': text_list}\n",
    "        df_temp = pd.DataFrame.from_dict(InfoDict)\n",
    "        if frame_initiated == False:\n",
    "            senators_df = df_temp.copy()\n",
    "            frame_initiated = True\n",
    "        else:\n",
    "            senators_df = pd.concat([senators_df, df_temp])\n",
    "    \n",
    "    ## Collecting tweets in the after vote period\n",
    "    for j in range((len(after_vote_date_list) - 1)):\n",
    "        results = api.search_30_day('Development',\n",
    "                                search_term,\n",
    "                                fromDate = after_vote_date_list[j],\n",
    "                                toDate = after_vote_date_list[j+1],\n",
    "                                maxResults = 100)\n",
    "        id_list = []\n",
    "        date_list = []\n",
    "        senator_list = []\n",
    "        after_vote_list = []\n",
    "        text_list = []\n",
    "\n",
    "        for tweet in results:\n",
    "            id_list.append(tweet.id_str)\n",
    "            date_list.append(tweet.created_at)\n",
    "            senator_list.append(senators[i])\n",
    "            after_vote_list.append(1)\n",
    "            text_list.append(get_tweet_text(tweet))\n",
    "\n",
    "        InfoDict = {'ids': id_list, 'date': date_list, 'senator': senator_list,\n",
    "                    'after_vote': after_vote_list, 'text': text_list}\n",
    "        df_temp = pd.DataFrame.from_dict(InfoDict)\n",
    "        senators_df = pd.concat([senators_df, df_temp])"
   ]
  },
  {
   "cell_type": "code",
   "execution_count": 14,
   "id": "sitting-volume",
   "metadata": {},
   "outputs": [
    {
     "data": {
      "text/plain": [
       "(3000, 5)"
      ]
     },
     "execution_count": 14,
     "metadata": {},
     "output_type": "execute_result"
    }
   ],
   "source": [
    "senators_df.shape"
   ]
  },
  {
   "cell_type": "code",
   "execution_count": 15,
   "id": "lyric-alias",
   "metadata": {},
   "outputs": [
    {
     "data": {
      "text/html": [
       "<div>\n",
       "<style scoped>\n",
       "    .dataframe tbody tr th:only-of-type {\n",
       "        vertical-align: middle;\n",
       "    }\n",
       "\n",
       "    .dataframe tbody tr th {\n",
       "        vertical-align: top;\n",
       "    }\n",
       "\n",
       "    .dataframe thead th {\n",
       "        text-align: right;\n",
       "    }\n",
       "</style>\n",
       "<table border=\"1\" class=\"dataframe\">\n",
       "  <thead>\n",
       "    <tr style=\"text-align: right;\">\n",
       "      <th></th>\n",
       "      <th>ids</th>\n",
       "      <th>date</th>\n",
       "      <th>senator</th>\n",
       "      <th>after_vote</th>\n",
       "      <th>text</th>\n",
       "    </tr>\n",
       "  </thead>\n",
       "  <tbody>\n",
       "    <tr>\n",
       "      <th>0</th>\n",
       "      <td>1365451555076472836</td>\n",
       "      <td>2021-02-26 23:59:54</td>\n",
       "      <td>Joe Manchin</td>\n",
       "      <td>0</td>\n",
       "      <td>@f__of__x @angryprog @suchnerve Didn't Manchin...</td>\n",
       "    </tr>\n",
       "    <tr>\n",
       "      <th>1</th>\n",
       "      <td>1365451550261346305</td>\n",
       "      <td>2021-02-26 23:59:53</td>\n",
       "      <td>Joe Manchin</td>\n",
       "      <td>0</td>\n",
       "      <td>@JamaalBowmanNY Why are all the progressives s...</td>\n",
       "    </tr>\n",
       "    <tr>\n",
       "      <th>2</th>\n",
       "      <td>1365451486881325056</td>\n",
       "      <td>2021-02-26 23:59:37</td>\n",
       "      <td>Joe Manchin</td>\n",
       "      <td>0</td>\n",
       "      <td>@CAAttorney1 @JuddLegum You seem certain Manch...</td>\n",
       "    </tr>\n",
       "    <tr>\n",
       "      <th>3</th>\n",
       "      <td>1365451462831083523</td>\n",
       "      <td>2021-02-26 23:59:32</td>\n",
       "      <td>Joe Manchin</td>\n",
       "      <td>0</td>\n",
       "      <td>@MiddleFWIW @BlueCheese911 @cenkuygur @BernieS...</td>\n",
       "    </tr>\n",
       "    <tr>\n",
       "      <th>4</th>\n",
       "      <td>1365451442295775233</td>\n",
       "      <td>2021-02-26 23:59:27</td>\n",
       "      <td>Joe Manchin</td>\n",
       "      <td>0</td>\n",
       "      <td>@lorio808 @ACTBrigitte You could ask Steve man...</td>\n",
       "    </tr>\n",
       "  </tbody>\n",
       "</table>\n",
       "</div>"
      ],
      "text/plain": [
       "                   ids                date      senator  after_vote  \\\n",
       "0  1365451555076472836 2021-02-26 23:59:54  Joe Manchin           0   \n",
       "1  1365451550261346305 2021-02-26 23:59:53  Joe Manchin           0   \n",
       "2  1365451486881325056 2021-02-26 23:59:37  Joe Manchin           0   \n",
       "3  1365451462831083523 2021-02-26 23:59:32  Joe Manchin           0   \n",
       "4  1365451442295775233 2021-02-26 23:59:27  Joe Manchin           0   \n",
       "\n",
       "                                                text  \n",
       "0  @f__of__x @angryprog @suchnerve Didn't Manchin...  \n",
       "1  @JamaalBowmanNY Why are all the progressives s...  \n",
       "2  @CAAttorney1 @JuddLegum You seem certain Manch...  \n",
       "3  @MiddleFWIW @BlueCheese911 @cenkuygur @BernieS...  \n",
       "4  @lorio808 @ACTBrigitte You could ask Steve man...  "
      ]
     },
     "execution_count": 15,
     "metadata": {},
     "output_type": "execute_result"
    }
   ],
   "source": [
    "senators_df.head()"
   ]
  },
  {
   "cell_type": "code",
   "execution_count": 17,
   "id": "robust-reproduction",
   "metadata": {},
   "outputs": [
    {
     "data": {
      "text/plain": [
       "Joe Manchin       1400\n",
       "Kyrsten Sinema    1400\n",
       "Jeanne Shaheen     200\n",
       "Name: senator, dtype: int64"
      ]
     },
     "execution_count": 17,
     "metadata": {},
     "output_type": "execute_result"
    }
   ],
   "source": [
    "senators_df.senator.value_counts()"
   ]
  },
  {
   "cell_type": "code",
   "execution_count": 27,
   "id": "supreme-cooling",
   "metadata": {},
   "outputs": [
    {
     "data": {
      "text/plain": [
       "(2800, 5)"
      ]
     },
     "execution_count": 27,
     "metadata": {},
     "output_type": "execute_result"
    }
   ],
   "source": [
    "## Came across rate limit, will have to try again with remaining Senators. In meanwhile, will \n",
    "## filter to just two that I have so far\n",
    "full_senators_df = senators_df.loc[(senators_df.senator == \"Joe Manchin\") | (senators_df.senator == \"Kyrsten Sinema\")]\n",
    "del senators_df\n",
    "full_senators_df.shape"
   ]
  },
  {
   "cell_type": "code",
   "execution_count": 28,
   "id": "oriental-syndication",
   "metadata": {},
   "outputs": [],
   "source": [
    "full_senators_df.to_csv(\"senator_tweets.csv\")"
   ]
  },
  {
   "cell_type": "code",
   "execution_count": 30,
   "id": "frozen-trinidad",
   "metadata": {},
   "outputs": [],
   "source": [
    "def scrape_senator_tweets(search_term_list, given_senator_list, df): \n",
    "    senators_df = df\n",
    "    for i, search_term in enumerate(search_term_list):\n",
    "        ## Collecting tweets in the before vote period\n",
    "        for j in range((len(before_vote_date_list) - 1)):\n",
    "            results = api.search_30_day('Development',\n",
    "                                    search_term,\n",
    "                                    fromDate = before_vote_date_list[j],\n",
    "                                    toDate = before_vote_date_list[j+1],\n",
    "                                    maxResults = 100)\n",
    "            id_list = []\n",
    "            date_list = []\n",
    "            senator_list = []\n",
    "            ## This binary variable will indicate whether the tweets came before or after the vote\n",
    "            after_vote_list = []\n",
    "            text_list = []\n",
    "\n",
    "            for tweet in results:\n",
    "                id_list.append(tweet.id_str)\n",
    "                date_list.append(tweet.created_at)\n",
    "                senator_list.append(given_senator_list[i])\n",
    "                after_vote_list.append(0)\n",
    "                text_list.append(get_tweet_text(tweet))\n",
    "\n",
    "            InfoDict = {'ids': id_list, 'date': date_list, 'senator': senator_list,\n",
    "                        'after_vote': after_vote_list, 'text': text_list}\n",
    "            df_temp = pd.DataFrame.from_dict(InfoDict)\n",
    "            senators_df = pd.concat([senators_df, df_temp])\n",
    "\n",
    "        ## Collecting tweets in the after vote period\n",
    "        for j in range((len(after_vote_date_list) - 1)):\n",
    "            results = api.search_30_day('Development',\n",
    "                                    search_term,\n",
    "                                    fromDate = after_vote_date_list[j],\n",
    "                                    toDate = after_vote_date_list[j+1],\n",
    "                                    maxResults = 100)\n",
    "            id_list = []\n",
    "            date_list = []\n",
    "            senator_list = []\n",
    "            after_vote_list = []\n",
    "            text_list = []\n",
    "\n",
    "            for tweet in results:\n",
    "                id_list.append(tweet.id_str)\n",
    "                date_list.append(tweet.created_at)\n",
    "                senator_list.append(given_senator_list[i])\n",
    "                after_vote_list.append(1)\n",
    "                text_list.append(get_tweet_text(tweet))\n",
    "\n",
    "            InfoDict = {'ids': id_list, 'date': date_list, 'senator': senator_list,\n",
    "                        'after_vote': after_vote_list, 'text': text_list}\n",
    "            df_temp = pd.DataFrame.from_dict(InfoDict)\n",
    "            senators_df = pd.concat([senators_df, df_temp])\n",
    "    return senators_df"
   ]
  },
  {
   "cell_type": "code",
   "execution_count": 31,
   "id": "loaded-conversation",
   "metadata": {},
   "outputs": [],
   "source": [
    "part_search_terms = search_terms[2:4]\n",
    "part_senators = senators[2:4]"
   ]
  },
  {
   "cell_type": "code",
   "execution_count": 32,
   "id": "interstate-revolution",
   "metadata": {},
   "outputs": [],
   "source": [
    "full_senators_df = scrape_senator_tweets(part_search_terms, part_senators, full_senators_df)"
   ]
  },
  {
   "cell_type": "code",
   "execution_count": 33,
   "id": "integrated-morris",
   "metadata": {},
   "outputs": [
    {
     "data": {
      "text/html": [
       "<div>\n",
       "<style scoped>\n",
       "    .dataframe tbody tr th:only-of-type {\n",
       "        vertical-align: middle;\n",
       "    }\n",
       "\n",
       "    .dataframe tbody tr th {\n",
       "        vertical-align: top;\n",
       "    }\n",
       "\n",
       "    .dataframe thead th {\n",
       "        text-align: right;\n",
       "    }\n",
       "</style>\n",
       "<table border=\"1\" class=\"dataframe\">\n",
       "  <thead>\n",
       "    <tr style=\"text-align: right;\">\n",
       "      <th></th>\n",
       "      <th>ids</th>\n",
       "      <th>date</th>\n",
       "      <th>senator</th>\n",
       "      <th>after_vote</th>\n",
       "      <th>text</th>\n",
       "    </tr>\n",
       "  </thead>\n",
       "  <tbody>\n",
       "    <tr>\n",
       "      <th>0</th>\n",
       "      <td>1365451555076472836</td>\n",
       "      <td>2021-02-26 23:59:54</td>\n",
       "      <td>Joe Manchin</td>\n",
       "      <td>0</td>\n",
       "      <td>@f__of__x @angryprog @suchnerve Didn't Manchin...</td>\n",
       "    </tr>\n",
       "    <tr>\n",
       "      <th>1</th>\n",
       "      <td>1365451550261346305</td>\n",
       "      <td>2021-02-26 23:59:53</td>\n",
       "      <td>Joe Manchin</td>\n",
       "      <td>0</td>\n",
       "      <td>@JamaalBowmanNY Why are all the progressives s...</td>\n",
       "    </tr>\n",
       "    <tr>\n",
       "      <th>2</th>\n",
       "      <td>1365451486881325056</td>\n",
       "      <td>2021-02-26 23:59:37</td>\n",
       "      <td>Joe Manchin</td>\n",
       "      <td>0</td>\n",
       "      <td>@CAAttorney1 @JuddLegum You seem certain Manch...</td>\n",
       "    </tr>\n",
       "    <tr>\n",
       "      <th>3</th>\n",
       "      <td>1365451462831083523</td>\n",
       "      <td>2021-02-26 23:59:32</td>\n",
       "      <td>Joe Manchin</td>\n",
       "      <td>0</td>\n",
       "      <td>@MiddleFWIW @BlueCheese911 @cenkuygur @BernieS...</td>\n",
       "    </tr>\n",
       "    <tr>\n",
       "      <th>4</th>\n",
       "      <td>1365451442295775233</td>\n",
       "      <td>2021-02-26 23:59:27</td>\n",
       "      <td>Joe Manchin</td>\n",
       "      <td>0</td>\n",
       "      <td>@lorio808 @ACTBrigitte You could ask Steve man...</td>\n",
       "    </tr>\n",
       "    <tr>\n",
       "      <th>...</th>\n",
       "      <td>...</td>\n",
       "      <td>...</td>\n",
       "      <td>...</td>\n",
       "      <td>...</td>\n",
       "      <td>...</td>\n",
       "    </tr>\n",
       "    <tr>\n",
       "      <th>68</th>\n",
       "      <td>1370177944178585601</td>\n",
       "      <td>2021-03-12 01:00:53</td>\n",
       "      <td>Maggie Hassan</td>\n",
       "      <td>1</td>\n",
       "      <td>@Tony_Demers @Tomato8816 @WMUR9 @SaintAnselmPo...</td>\n",
       "    </tr>\n",
       "    <tr>\n",
       "      <th>69</th>\n",
       "      <td>1370176807140462592</td>\n",
       "      <td>2021-03-12 00:56:22</td>\n",
       "      <td>Maggie Hassan</td>\n",
       "      <td>1</td>\n",
       "      <td>@Tony_Demers @Tomato8816 @WMUR9 @SaintAnselmPo...</td>\n",
       "    </tr>\n",
       "    <tr>\n",
       "      <th>70</th>\n",
       "      <td>1370176729080332289</td>\n",
       "      <td>2021-03-12 00:56:03</td>\n",
       "      <td>Maggie Hassan</td>\n",
       "      <td>1</td>\n",
       "      <td>@Tony_Demers @Tomato8816 @WMUR9 @SaintAnselmPo...</td>\n",
       "    </tr>\n",
       "    <tr>\n",
       "      <th>71</th>\n",
       "      <td>1370167125151727622</td>\n",
       "      <td>2021-03-12 00:17:53</td>\n",
       "      <td>Maggie Hassan</td>\n",
       "      <td>1</td>\n",
       "      <td>@pt35mm @Tomato8816 @WMUR9 @SaintAnselmPoll @C...</td>\n",
       "    </tr>\n",
       "    <tr>\n",
       "      <th>72</th>\n",
       "      <td>1370166697605402629</td>\n",
       "      <td>2021-03-12 00:16:11</td>\n",
       "      <td>Maggie Hassan</td>\n",
       "      <td>1</td>\n",
       "      <td>@pt35mm @Tomato8816 @WMUR9 @SaintAnselmPoll @C...</td>\n",
       "    </tr>\n",
       "  </tbody>\n",
       "</table>\n",
       "<p>5202 rows × 5 columns</p>\n",
       "</div>"
      ],
      "text/plain": [
       "                    ids                date        senator  after_vote  \\\n",
       "0   1365451555076472836 2021-02-26 23:59:54    Joe Manchin           0   \n",
       "1   1365451550261346305 2021-02-26 23:59:53    Joe Manchin           0   \n",
       "2   1365451486881325056 2021-02-26 23:59:37    Joe Manchin           0   \n",
       "3   1365451462831083523 2021-02-26 23:59:32    Joe Manchin           0   \n",
       "4   1365451442295775233 2021-02-26 23:59:27    Joe Manchin           0   \n",
       "..                  ...                 ...            ...         ...   \n",
       "68  1370177944178585601 2021-03-12 01:00:53  Maggie Hassan           1   \n",
       "69  1370176807140462592 2021-03-12 00:56:22  Maggie Hassan           1   \n",
       "70  1370176729080332289 2021-03-12 00:56:03  Maggie Hassan           1   \n",
       "71  1370167125151727622 2021-03-12 00:17:53  Maggie Hassan           1   \n",
       "72  1370166697605402629 2021-03-12 00:16:11  Maggie Hassan           1   \n",
       "\n",
       "                                                 text  \n",
       "0   @f__of__x @angryprog @suchnerve Didn't Manchin...  \n",
       "1   @JamaalBowmanNY Why are all the progressives s...  \n",
       "2   @CAAttorney1 @JuddLegum You seem certain Manch...  \n",
       "3   @MiddleFWIW @BlueCheese911 @cenkuygur @BernieS...  \n",
       "4   @lorio808 @ACTBrigitte You could ask Steve man...  \n",
       "..                                                ...  \n",
       "68  @Tony_Demers @Tomato8816 @WMUR9 @SaintAnselmPo...  \n",
       "69  @Tony_Demers @Tomato8816 @WMUR9 @SaintAnselmPo...  \n",
       "70  @Tony_Demers @Tomato8816 @WMUR9 @SaintAnselmPo...  \n",
       "71  @pt35mm @Tomato8816 @WMUR9 @SaintAnselmPoll @C...  \n",
       "72  @pt35mm @Tomato8816 @WMUR9 @SaintAnselmPoll @C...  \n",
       "\n",
       "[5202 rows x 5 columns]"
      ]
     },
     "execution_count": 33,
     "metadata": {},
     "output_type": "execute_result"
    }
   ],
   "source": [
    "full_senators_df"
   ]
  },
  {
   "cell_type": "code",
   "execution_count": 34,
   "id": "discrete-counter",
   "metadata": {},
   "outputs": [
    {
     "data": {
      "text/plain": [
       "Joe Manchin       1400\n",
       "Jeanne Shaheen    1400\n",
       "Kyrsten Sinema    1400\n",
       "Maggie Hassan     1002\n",
       "Name: senator, dtype: int64"
      ]
     },
     "execution_count": 34,
     "metadata": {},
     "output_type": "execute_result"
    }
   ],
   "source": [
    "full_senators_df.senator.value_counts()"
   ]
  },
  {
   "cell_type": "code",
   "execution_count": 35,
   "id": "cheap-spare",
   "metadata": {},
   "outputs": [],
   "source": [
    "full_senators_df.to_csv(\"senator_tweets.csv\")"
   ]
  },
  {
   "cell_type": "code",
   "execution_count": 36,
   "id": "stainless-payment",
   "metadata": {},
   "outputs": [],
   "source": [
    "part_search_terms = search_terms[4:6]\n",
    "part_senators = senators[4:6]\n",
    "full_senators_df = scrape_senator_tweets(part_search_terms, part_senators, full_senators_df)"
   ]
  },
  {
   "cell_type": "code",
   "execution_count": 38,
   "id": "eleven-surface",
   "metadata": {},
   "outputs": [
    {
     "data": {
      "text/plain": [
       "Joe Manchin       1400\n",
       "Jeanne Shaheen    1400\n",
       "Kyrsten Sinema    1400\n",
       "Tom Carper        1090\n",
       "Maggie Hassan     1002\n",
       "Jon Tester         785\n",
       "Name: senator, dtype: int64"
      ]
     },
     "execution_count": 38,
     "metadata": {},
     "output_type": "execute_result"
    }
   ],
   "source": [
    "full_senators_df.senator.value_counts()"
   ]
  },
  {
   "cell_type": "code",
   "execution_count": 39,
   "id": "dying-century",
   "metadata": {},
   "outputs": [],
   "source": [
    "full_senators_df.to_csv(\"senator_tweets.csv\")"
   ]
  },
  {
   "cell_type": "code",
   "execution_count": 40,
   "id": "cheap-quebec",
   "metadata": {},
   "outputs": [],
   "source": [
    "part_search_terms = search_terms[6:]\n",
    "part_senators = senators[6:]\n",
    "full_senators_df = scrape_senator_tweets(part_search_terms, part_senators, full_senators_df)"
   ]
  },
  {
   "cell_type": "code",
   "execution_count": 41,
   "id": "about-blast",
   "metadata": {},
   "outputs": [
    {
     "data": {
      "text/plain": [
       "Joe Manchin       1400\n",
       "Jeanne Shaheen    1400\n",
       "Kyrsten Sinema    1400\n",
       "Tom Carper        1090\n",
       "Maggie Hassan     1002\n",
       "Angus King         854\n",
       "Chris Coons        802\n",
       "Jon Tester         785\n",
       "Name: senator, dtype: int64"
      ]
     },
     "execution_count": 41,
     "metadata": {},
     "output_type": "execute_result"
    }
   ],
   "source": [
    "full_senators_df.senator.value_counts()"
   ]
  },
  {
   "cell_type": "code",
   "execution_count": 42,
   "id": "alone-syracuse",
   "metadata": {},
   "outputs": [],
   "source": [
    "full_senators_df.to_csv(\"senator_tweets.csv\")"
   ]
  }
 ],
 "metadata": {
  "kernelspec": {
   "display_name": "Python 3",
   "language": "python",
   "name": "python3"
  },
  "language_info": {
   "codemirror_mode": {
    "name": "ipython",
    "version": 3
   },
   "file_extension": ".py",
   "mimetype": "text/x-python",
   "name": "python",
   "nbconvert_exporter": "python",
   "pygments_lexer": "ipython3",
   "version": "3.8.5"
  }
 },
 "nbformat": 4,
 "nbformat_minor": 5
}
